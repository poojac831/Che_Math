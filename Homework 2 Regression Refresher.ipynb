{
 "cells": [
  {
   "cell_type": "markdown",
   "id": "6bfcf881",
   "metadata": {},
   "source": [
    "# Homework 2 Regression Refresher\n",
    "\n",
    "In class, we considered a very simply algorithm called gradient descent that we used to estimate the parameters of a simple linear model. But we left many considerations open. These include:\n",
    "- Normalization \n",
    "    - We saw that the SSE is a very big number in our example, leading us to choose awkwardly small learning rates. Normaling the error may help us use more reasonably sized learning rates.\n",
    "- When to stop\n",
    "    - We can tell the algorithm to stop after a set number of iterations or, something smarter, tell it to stop when it begins to take very small step sizes\n",
    "- Multiple solutions\n",
    "    - It should be obvious that gradient descent, as an algorithm, doesn't do much \"thinking\". \n",
    "    - If there are multiple solutions, it will only find one\n",
    "        \n",
    "\n",
    "## Problem 1 - Use gradient descent to identify multiple minima\n",
    "\n",
    "Regression algorithms ultimately search for minima. This can be where an error function is minimized (as we saw in class) or when a polynomial equation is minimized. Using the code from our lecture, adapt the code in order to indentify the roots of the following equation: \n",
    "\n",
    "$x^3 - 6x^2 +11x = 6$\n",
    "  \n",
    "- Look at homework 1 for how to tackle this problem.\n",
    "- Since the polynomial will have more than 1 solution, be sure to consider multiple starting guesses. \n",
    "- Use the \"roots\" function from numpy to check your answer. Roots is especially designed for polynomials and should find all roots."
   ]
  },
  {
   "cell_type": "code",
   "execution_count": 6,
   "id": "305ba9d4",
   "metadata": {},
   "outputs": [
    {
     "name": "stdout",
     "output_type": "stream",
     "text": [
      "What is your guess for the root of the polynomial?: 0.5\n",
      "Root is at x = 1.000000\n"
     ]
    },
    {
     "data": {
      "image/png": "[encoded data removed]",
      "text/plain": [
       "<Figure size 432x288 with 1 Axes>"
      ]
     },
     "metadata": {
      "needs_background": "light"
     },
     "output_type": "display_data"
    },
    {
     "data": {
      "text/plain": [
       "array([3., 2., 1.])"
      ]
     },
     "execution_count": 6,
     "metadata": {},
     "output_type": "execute_result"
    }
   ],
   "source": [
    "#importing libraries\n",
    "import numpy as np\n",
    "import matplotlib.pyplot as plt\n",
    "import statistics\n",
    "%matplotlib inline\n",
    "\n",
    "#defining polynomial in a function\n",
    "def polynomial(x):\n",
    "    answer = x**3 - 6*(x*x) + 11*x - 6\n",
    "    return answer\n",
    "\n",
    "#defining derivative function\n",
    "def derivative(x):\n",
    "    deriv = (polynomial(x+0.01)-polynomial(x))/.01\n",
    "    \n",
    "    if deriv<0:\n",
    "        deriv = abs(deriv)\n",
    "    return deriv\n",
    "\n",
    "#pre-setting some constants\n",
    "answer = 0\n",
    "past_answer = 0\n",
    "n = 0\n",
    "rate = 0.1\n",
    "\n",
    "#asking for user input on a guess\n",
    "current_x = float(input('What is your guess for the root of the polynomial?: '))\n",
    "\n",
    "#while-loop to run gradient descent\n",
    "#NOTE: only works if your guess is to the left of the actual root and does not have to \n",
    "#pass a maximum or minimum of the polynomial while honing in on the answer\n",
    "#Guesses that work well: 0.5, 1.5, 2.9\n",
    "while n<10000:\n",
    "    new_x = current_x + rate*derivative(current_x)\n",
    "    past_answer = polynomial(current_x)\n",
    "    past_x = current_x\n",
    "    current_x = new_x\n",
    "    answer = polynomial(new_x)\n",
    "    plt.plot(new_x, answer,'o')\n",
    "    plt.text(new_x,answer,n)\n",
    "    \n",
    "    #if structure to ensure the while loop stops when the answer is approaching\n",
    "    if (past_answer<0 and answer>0) or (past_answer>0 and answer<0):\n",
    "        current_x = past_x\n",
    "        n=0\n",
    "        rate = rate/10\n",
    "    elif answer==0:\n",
    "        break\n",
    "    else:\n",
    "        n = n+1\n",
    "    \n",
    "#show the root\n",
    "print('Root is at x = %f' %current_x)\n",
    "plt.show()\n",
    "\n",
    "#checking with numpy.roots\n",
    "coeffs = [1, -6, 11, -6]\n",
    "np.roots(coeffs)"
   ]
  },
  {
   "cell_type": "markdown",
   "id": "fa6339d8",
   "metadata": {},
   "source": [
    "## Problem 2 - Linear regression can be used to analyze \"groups\"\n",
    "\n",
    "In class, we used linear regression to fit a linear model to height and weight data. In this case, the measurements (x) and the outcomes (y) are continuous. Linear regression is also commonly used to analyze groups, wherein the measurements are not continous. For example, we may have measured the height of persons who did or did not eat asparagus when they were young. In this case, x is discrete - a collection of 1's and 0's. \n",
    "\n",
    "Let's use linear regression to analyze the miles per gallon achieved by select type of cars. Download the data from https://gist.github.com/noamross/e5d3e859aa0c794be10b. We want to determine if 8 cylinder vehicles get less gas mileage than 4 and 6 cylinder cars. Cyl = cylinders; MPG = miles per gallon on the table.\n",
    "\n",
    "### a) Write the code to determine the average MPG for 8 cylinder vehicles vs 4/6 cyl vehicle.\n",
    "Be sure the mean values are clearly identified or report them in a new markup cell below the code. Be sure that you are treating 4 and 6 cyl vehicles as one group."
   ]
  },
  {
   "cell_type": "code",
   "execution_count": 1,
   "id": "fe2006ba",
   "metadata": {},
   "outputs": [
    {
     "ename": "NameError",
     "evalue": "name 'np' is not defined",
     "output_type": "error",
     "traceback": [
      "\u001b[1;31m---------------------------------------------------------------------------\u001b[0m",
      "\u001b[1;31mNameError\u001b[0m                                 Traceback (most recent call last)",
      "Input \u001b[1;32mIn [1]\u001b[0m, in \u001b[0;36m<cell line: 2>\u001b[1;34m()\u001b[0m\n\u001b[0;32m      1\u001b[0m \u001b[38;5;66;03m#loading in data\u001b[39;00m\n\u001b[1;32m----> 2\u001b[0m data \u001b[38;5;241m=\u001b[39m \u001b[43mnp\u001b[49m\u001b[38;5;241m.\u001b[39mgenfromtxt(\u001b[38;5;124m'\u001b[39m\u001b[38;5;124mcars.csv\u001b[39m\u001b[38;5;124m'\u001b[39m, delimiter\u001b[38;5;241m=\u001b[39m\u001b[38;5;124m'\u001b[39m\u001b[38;5;124m,\u001b[39m\u001b[38;5;124m'\u001b[39m, dtype\u001b[38;5;241m=\u001b[39m\u001b[38;5;28;01mNone\u001b[39;00m, encoding\u001b[38;5;241m=\u001b[39m\u001b[38;5;124m'\u001b[39m\u001b[38;5;124mutf-8\u001b[39m\u001b[38;5;124m'\u001b[39m)\n\u001b[0;32m      3\u001b[0m dat \u001b[38;5;241m=\u001b[39m np\u001b[38;5;241m.\u001b[39masarray(data[\u001b[38;5;241m1\u001b[39m:,\u001b[38;5;241m1\u001b[39m:],dtype\u001b[38;5;241m=\u001b[39m\u001b[38;5;28mfloat\u001b[39m)\n\u001b[0;32m      5\u001b[0m cyl8 \u001b[38;5;241m=\u001b[39m []\n",
      "\u001b[1;31mNameError\u001b[0m: name 'np' is not defined"
     ]
    }
   ],
   "source": [
    "#loading in data\n",
    "data = np.genfromtxt('cars.csv', delimiter=',', dtype=None, encoding='utf-8')\n",
    "dat = np.asarray(data[1:,1:],dtype=float)\n",
    "\n",
    "#separating 8 cylinder and 4/6 cylinder\n",
    "cyl8 = []\n",
    "cyl46 = []\n",
    "for i in range(len(dat)):\n",
    "    if dat[i,1]==8:\n",
    "        cyl8.append(dat[i][:])\n",
    "    else:\n",
    "        cyl46.append(dat[i][:])\n",
    "\n",
    "#calculating average MPG\n",
    "averagempg8 = statistics.mean(cyl8[:][0])\n",
    "averagempg46 = statistics.mean(cyl46[:][0])\n",
    "\n",
    "print('The average MPG for 8 cylinder vehicles is %f' %averagempg8)\n",
    "print('The average MPG for 4 and 6 cylinder vehicles is %f' %averagempg46)"
   ]
  },
  {
   "cell_type": "markdown",
   "id": "dad8b85a",
   "metadata": {},
   "source": [
    "### b) Analyze using linear regression\n",
    "To analyze with linear regression, we have to create a linear model. Here, our y is the MPG. But x is not a continous variable - it's a group variable. \n",
    "\n",
    "- Let's create a \"Group\" column in our data, where a 1 indicates that a vehicle has a 8 cyl engine and a 0 to indicate a 4 or 6 cylinder vehicle. \n",
    "- Use the linear regression **mathematical code** (do not use packages; perform the matrix algrebra) from class to calculate the slope and intercept. Feel free to check your answer using on the packages demonstrated in class.\n",
    "- Report the slope and intercept in a text box below your code. \n",
    "- In the text box, also compare the calculated slope and intercept to the values of the means calculated above. Do you notice any obvious relationships?\n",
    "\n"
   ]
  },
  {
   "cell_type": "code",
   "execution_count": 39,
   "id": "1958d642",
   "metadata": {},
   "outputs": [
    {
     "name": "stdout",
     "output_type": "stream",
     "text": [
      "The intercept is  23.97222222222222  and our slope is  -8.872222222222222\n",
      "                            OLS Regression Results                            \n",
      "==============================================================================\n",
      "Dep. Variable:                      y   R-squared:                       0.551\n",
      "Model:                            OLS   Adj. R-squared:                  0.536\n",
      "Method:                 Least Squares   F-statistic:                     36.74\n",
      "Date:                Mon, 12 Sep 2022   Prob (F-statistic):           1.17e-06\n",
      "Time:                        18:27:52   Log-Likelihood:                -89.584\n",
      "No. Observations:                  32   AIC:                             183.2\n",
      "Df Residuals:                      30   BIC:                             186.1\n",
      "Df Model:                           1                                         \n",
      "Covariance Type:            nonrobust                                         \n",
      "==============================================================================\n",
      "                 coef    std err          t      P>|t|      [0.025      0.975]\n",
      "------------------------------------------------------------------------------\n",
      "const         23.9722      0.968     24.761      0.000      21.995      25.949\n",
      "x1            -8.8722      1.464     -6.061      0.000     -11.862      -5.883\n",
      "==============================================================================\n",
      "Omnibus:                        3.039   Durbin-Watson:                   1.339\n",
      "Prob(Omnibus):                  0.219   Jarque-Bera (JB):                2.365\n",
      "Skew:                           0.665   Prob(JB):                        0.307\n",
      "Kurtosis:                       2.942   Cond. No.                         2.50\n",
      "==============================================================================\n",
      "\n",
      "Notes:\n",
      "[1] Standard Errors assume that the covariance matrix of the errors is correctly specified.\n"
     ]
    }
   ],
   "source": [
    "#adding group column and appending to dat\n",
    "group = np.empty([len(dat),1])\n",
    "for i in range(len(dat)):\n",
    "    if dat[i,1] ==8:\n",
    "        group[i,0]=(1)\n",
    "    else:\n",
    "        group[i,0]=(0)\n",
    "\n",
    "dat = np.append(dat,group,axis=1)\n",
    "\n",
    "#separating out mpg\n",
    "mpg = dat[:,0]\n",
    "\n",
    "#matrix calculation - from lecture notes\n",
    "X = np.c_[np.ones(len(group)),group]\n",
    "\n",
    "from numpy.linalg import inv\n",
    "\n",
    "tmp = inv(np.matmul(np.transpose(X),X))\n",
    "\n",
    "intercept, slope = tmp @ np.transpose(X) @ mpg\n",
    "print('The intercept is ', intercept, ' and our slope is ', slope)\n",
    "\n",
    "#checking answer with a built in function\n",
    "import statsmodels.api as sm\n",
    "model = sm.OLS(mpg, sm.add_constant(group)).fit()\n",
    "print(model.summary())"
   ]
  },
  {
   "cell_type": "markdown",
   "id": "cc9c26af",
   "metadata": {},
   "source": [
    "<font color=red> The slope is -8.8722 and the intercept is 23.9722. When compared to the means calculated above, there seems to be a direct correlation between the number of cylinders and the amount of miles per gallon.</font>"
   ]
  }
 ],
 "metadata": {
  "kernelspec": {
   "display_name": "Python 3 (ipykernel)",
   "language": "python",
   "name": "python3"
  },
  "language_info": {
   "codemirror_mode": {
    "name": "ipython",
    "version": 3
   },
   "file_extension": ".py",
   "mimetype": "text/x-python",
   "name": "python",
   "nbconvert_exporter": "python",
   "pygments_lexer": "ipython3",
   "version": "3.9.12"
  }
 },
 "nbformat": 4,
 "nbformat_minor": 5
}
