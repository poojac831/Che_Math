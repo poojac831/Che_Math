{
 "cells": [
  {
   "cell_type": "markdown",
   "id": "78d343fd",
   "metadata": {},
   "source": [
    "# Problem 1: Null distributions of a one-sample vs two sample t\n",
    "\n",
    "We've spent a lot of time discussing the \"null distribution\".\n",
    "- The null hypothesis for a 1 sample t test is that the mean of the normal population our data comes from is equal to our hypothesized mean, $\\mu$. Therefore, the null distribution is the distribution of t values we expect to observe if we randomly sample from a normal population that has a mean equal to our hypothesized mean, $\\mu$.\n",
    "- The null hypothesis for a 2 sample t test can be more nuanced, depending on the assumptions we make about each samples standard deviations. Here, we will consider the independent, equal sample size, equal variance two-sample t test.\n",
    "\n",
    "## Confirm we can calculate t correctly\n",
    "\n",
    "Let's start by firsting making sure we can calculate t correctly. For this problem, let's use the heights of players (in centimeters) randomly selected from the LA Lakers and Boston Celtics rosters:\n",
    "\n",
    "Lakers = [200, 210, 220,225,215];\n",
    "\n",
    "Heat = [190, 220, 193, 200, 190];\n",
    "\n",
    "In the space below, calculate the 1 sample t value for the Lakers, assuming their average height is 195 cm, and the two-sample t value for this data. Confirm your answers using ttest_1samp and ttest_ind. Be sure to **note** the technicality discussion on the last slide of Lecture 11."
   ]
  },
  {
   "cell_type": "code",
   "execution_count": 3,
   "id": "7f0a9852",
   "metadata": {},
   "outputs": [
    {
     "name": "stdout",
     "output_type": "stream",
     "text": [
      "The one sample t-value for the Lakers, assuming an average height of 195, is 4.417410272265133 .\n",
      "The two sample t-value for the data is 2.167939197635687\n"
     ]
    },
    {
     "data": {
      "text/plain": [
       "Ttest_indResult(statistic=2.167939197635687, pvalue=0.06201738353641719)"
      ]
     },
     "execution_count": 3,
     "metadata": {},
     "output_type": "execute_result"
    }
   ],
   "source": [
    "#import necessary libraries\n",
    "import numpy as np\n",
    "import matplotlib.pyplot as plt\n",
    "from scipy import stats\n",
    "import math\n",
    "import random\n",
    "import statsmodels.api as sm\n",
    "\n",
    "#randomly sample height of 5 players from two teams\n",
    "lakers=[200,210,220,225,215]\n",
    "heat=[190,220,193,200,190]\n",
    "\n",
    "#1 sample t value for the lakers\n",
    "mu = 195\n",
    "t_val = (np.mean(lakers)-mu)/np.std(lakers,ddof=1)*np.sqrt(5)\n",
    "print(\"The one sample t-value for the Lakers, assuming an average height of 195, is\", t_val,\".\")\n",
    "\n",
    "#checking my answer\n",
    "stats.ttest_1samp(lakers,mu)\n",
    "\n",
    "#two sample t value\n",
    "sp = np.sqrt(((np.std(lakers,ddof=1)**2) + (np.std(heat,ddof=1)**2))/2)\n",
    "t_val2 = (np.mean(lakers)-np.mean(heat))/(sp*np.sqrt(2/5))\n",
    "print(\"The two sample t-value for the data is\", t_val2)\n",
    "\n",
    "#checking my answer\n",
    "stats.ttest_ind(lakers,heat)"
   ]
  },
  {
   "cell_type": "markdown",
   "id": "a2a25437",
   "metadata": {},
   "source": [
    "## Compare t distributions for 1 and 2 sample tests\n",
    "\n",
    "- In the space below, write the code necessary to create null distributions for single and two-sample t tests when:\n",
    "    - For the single sample t test, you are collecting 9 samples\n",
    "    - For the two sample t test, you are collected 5 samples for each group.\n",
    "- Produce density plots to compare the two distributions.\n",
    "    - Be sure to select enough samples and to adjust bins sizes as needed so that the density plots are clear and stable (meaning each time you run it, you basically get the same answer).\n",
    "    - Can use density feature of plt.hist or Seaborn's  sns function.\n",
    "    - On the figure, clearly indicate the degrees of freedom for the specific t test\n",
    "    - Unclear figures will not receive credit.\n"
   ]
  },
  {
   "cell_type": "code",
   "execution_count": 4,
   "id": "600a5a3d",
   "metadata": {},
   "outputs": [
    {
     "data": {
      "text/plain": [
       "Text(-5, 0.25, 'df = 8')"
      ]
     },
     "execution_count": 4,
     "metadata": {},
     "output_type": "execute_result"
    },
    {
     "data": {
      "image/png": "[encoded data removed]",
      "text/plain": [
       "<Figure size 432x288 with 1 Axes>"
      ]
     },
     "metadata": {
      "needs_background": "light"
     },
     "output_type": "display_data"
    },
    {
     "data": {
      "image/png": "[encoded data removed]",
      "text/plain": [
       "<Figure size 432x288 with 1 Axes>"
      ]
     },
     "metadata": {
      "needs_background": "light"
     },
     "output_type": "display_data"
    }
   ],
   "source": [
    "## single sample t test\n",
    "#generating random data\n",
    "mu = 200\n",
    "sigma = 10\n",
    "norm_data = np.random.normal(mu,sigma,5000)\n",
    "weighted_averages = np.zeros(20000)\n",
    "\n",
    "#calculating t values\n",
    "for m in np.arange(0,20000,1):\n",
    "    tmp = random.sample(list(norm_data),9) #randomly choosing 9 values from the data\n",
    "    weighted_averages[m] = (np.mean(tmp)-mu)/np.std(tmp,ddof=1)*np.sqrt(9) #calculating t value, if you don't wanna add ddof in there, have to do sprt of n-1\n",
    "    \n",
    "#create a null distribution of t values\n",
    "plt.subplots()\n",
    "plt.hist(weighted_averages, density = True, bins = 100)\n",
    "plt.xlabel(\"t\")\n",
    "plt.ylabel(\"Probability Density\")\n",
    "plt.title(\"Null Distribution of t-values for n=9 \\n 1 sample t test\")\n",
    "plt.text(-5,0.25, 'df = 8', fontsize = 16)\n",
    "\n",
    "\n",
    "## two sample t test\n",
    "weighted_averages2 = np.zeros(20000)\n",
    "\n",
    "#calculating t values\n",
    "for m in np.arange(0,20000,1):\n",
    "    tmp = random.sample(list(norm_data),5) #randomly choosing 5 values from the data\n",
    "    tmp2 = random.sample(list(norm_data),5) #randomly choosing 5 values from the data\n",
    "    sp = np.sqrt(((np.std(tmp,ddof=1)**2) + (np.std(tmp2,ddof=1)**2))/2)\n",
    "    weighted_averages2[m] = (np.mean(tmp)-np.mean(tmp2))/(sp*np.sqrt(2/5)) #calculating t value, if you don't wanna add ddof in there, have to do sprt of n-1\n",
    "    \n",
    "#create a null distribution of t values\n",
    "plt.subplots()\n",
    "plt.hist(weighted_averages2, density = True, bins = 100)\n",
    "plt.xlabel(\"t\")\n",
    "plt.ylabel(\"Probability Density\")\n",
    "plt.title(\"Null Distribution of t-values for n=5 \\n 2 sample t test\")\n",
    "plt.text(-5,0.25, 'df = 8', fontsize = 16)"
   ]
  },
  {
   "cell_type": "markdown",
   "id": "9551881e",
   "metadata": {},
   "source": [
    "Based on your figure(s) above, how do the two distributions compare? **Comment here:**\n",
    "<font color=red> The two distributions look almost identical.</font>"
   ]
  },
  {
   "cell_type": "markdown",
   "id": "22bd83ed",
   "metadata": {},
   "source": [
    "## Compute p value for two-sample t test\n",
    "- Using your null t distribution for your two sample t test, what is the likelihood that the heights of the Lakers and Heat come from populations with the same means?\n",
    "- Check your answer using ttest_ind"
   ]
  },
  {
   "cell_type": "code",
   "execution_count": 5,
   "id": "f59d1e0d",
   "metadata": {},
   "outputs": [
    {
     "name": "stdout",
     "output_type": "stream",
     "text": [
      "0.0616\n"
     ]
    },
    {
     "data": {
      "text/plain": [
       "Ttest_indResult(statistic=2.167939197635687, pvalue=0.06201738353641719)"
      ]
     },
     "execution_count": 5,
     "metadata": {},
     "output_type": "execute_result"
    }
   ],
   "source": [
    "#finding where the t distribution is greater than the calculated t-value\n",
    "#multiply by 2 bc two sample -> both tails\n",
    "print(2*(sum(weighted_averages2>=t_val2)/20000))\n",
    "\n",
    "#checking my answer\n",
    "stats.ttest_ind(lakers,heat)"
   ]
  },
  {
   "cell_type": "markdown",
   "id": "1bb9c720",
   "metadata": {},
   "source": [
    "# Problem 2 Changing our data's distributions\n",
    "\n",
    "As we've seen, we typically must assume that our data comes from a normal distribution. Let's use our brute force approach to determine how changing that assumption impacts our null t distributions.\n",
    "\n",
    "- Below, create the null t distributions for a single-sample t test for n = 3, 8 and 30 when sampling from a normal distribution and a uniform distribution. \n",
    "- For each case, plot the density plots such that you can compare the distributions that result from sampling the normally and uniformally distributed data.\n",
    "- Clearly label all figures."
   ]
  },
  {
   "cell_type": "code",
   "execution_count": 6,
   "id": "76473f53",
   "metadata": {},
   "outputs": [
    {
     "data": {
      "text/plain": [
       "Text(0.5, 1.0, 'Null Distribution of t-values for n=30 \\n 1 sample t test')"
      ]
     },
     "execution_count": 6,
     "metadata": {},
     "output_type": "execute_result"
    },
    {
     "data": {
      "image/png": "[encoded data removed]",
      "text/plain": [
       "<Figure size 432x288 with 1 Axes>"
      ]
     },
     "metadata": {
      "needs_background": "light"
     },
     "output_type": "display_data"
    },
    {
     "data": {
      "image/png": "[encoded data removed]",
      "text/plain": [
       "<Figure size 432x288 with 1 Axes>"
      ]
     },
     "metadata": {
      "needs_background": "light"
     },
     "output_type": "display_data"
    },
    {
     "data": {
      "image/png": "[encoded data removed]",
      "text/plain": [
       "<Figure size 432x288 with 1 Axes>"
      ]
     },
     "metadata": {
      "needs_background": "light"
     },
     "output_type": "display_data"
    }
   ],
   "source": [
    "## n = 3\n",
    "#generating random data\n",
    "mu = 200\n",
    "sigma = 10\n",
    "norm_data = np.random.normal(mu,sigma,5000)\n",
    "uni_data = np.random.uniform(min(norm_data),max(norm_data),5000)\n",
    "weighted_averages_norm = np.zeros(20000)\n",
    "weighted_averages_uni = np.zeros(20000)\n",
    "\n",
    "#calculating t values\n",
    "for m in np.arange(0,20000,1):\n",
    "    tmp = random.sample(list(norm_data),3) #randomly choosing 3 values from the data\n",
    "    tmp2 = random.sample(list(uni_data),3)\n",
    "    weighted_averages_norm[m] = (np.mean(tmp)-mu)/np.std(tmp,ddof=1)*np.sqrt(3) #calculating t value, if you don't wanna add ddof in there, have to do sprt of n-1\n",
    "    weighted_averages_uni[m] = (np.mean(tmp2)-mu)/np.std(tmp2,ddof=1)*np.sqrt(3) #calculating t value, if you don't wanna add ddof in there, have to do sprt of n-1\n",
    "    \n",
    "#create a null distribution of t values\n",
    "plt.subplots()\n",
    "plt.hist(weighted_averages_norm, density = True, bins = 100,label = 'Normal')\n",
    "plt.hist(weighted_averages_uni, density = True, bins = 100,label = 'Uniform')\n",
    "plt.legend()\n",
    "plt.xlabel(\"t\")\n",
    "plt.ylabel(\"Probability Density\")\n",
    "plt.title(\"Null Distribution of t-values for n=3 \\n 1 sample t test\")\n",
    "\n",
    "## n = 8\n",
    "#calculating t values\n",
    "for m in np.arange(0,20000,1):\n",
    "    tmp = random.sample(list(norm_data),8) #randomly choosing 8 values from the data\n",
    "    tmp2 = random.sample(list(uni_data),8)\n",
    "    weighted_averages_norm[m] = (np.mean(tmp)-mu)/np.std(tmp,ddof=1)*np.sqrt(8) #calculating t value, if you don't wanna add ddof in there, have to do sprt of n-1\n",
    "    weighted_averages_uni[m] = (np.mean(tmp2)-mu)/np.std(tmp2,ddof=1)*np.sqrt(8) #calculating t value, if you don't wanna add ddof in there, have to do sprt of n-1\n",
    "    \n",
    "#create a null distribution of t values\n",
    "plt.subplots()\n",
    "plt.hist(weighted_averages_norm, density = True, bins = 100,label = 'Normal')\n",
    "plt.hist(weighted_averages_uni, density = True, bins = 100,label = 'Uniform')\n",
    "plt.legend()\n",
    "plt.xlabel(\"t\")\n",
    "plt.ylabel(\"Probability Density\")\n",
    "plt.title(\"Null Distribution of t-values for n=8 \\n 1 sample t test\")\n",
    "\n",
    "## n = 30\n",
    "#calculating t values\n",
    "for m in np.arange(0,20000,1):\n",
    "    tmp = random.sample(list(norm_data),30) #randomly choosing 30 values from the data\n",
    "    tmp2 = random.sample(list(uni_data),30)\n",
    "    weighted_averages_norm[m] = (np.mean(tmp)-mu)/np.std(tmp,ddof=1)*np.sqrt(30) #calculating t value, if you don't wanna add ddof in there, have to do sprt of n-1\n",
    "    weighted_averages_uni[m] = (np.mean(tmp2)-mu)/np.std(tmp2,ddof=1)*np.sqrt(30) #calculating t value, if you don't wanna add ddof in there, have to do sprt of n-1\n",
    "    \n",
    "#create a null distribution of t values\n",
    "plt.subplots()\n",
    "plt.hist(weighted_averages_norm, density = True, bins = 100,label = 'Normal')\n",
    "plt.hist(weighted_averages_uni, density = True, bins = 100,label = 'Uniform')\n",
    "plt.legend()\n",
    "plt.xlabel(\"t\")\n",
    "plt.ylabel(\"Probability Density\")\n",
    "plt.title(\"Null Distribution of t-values for n=30 \\n 1 sample t test\")"
   ]
  },
  {
   "cell_type": "markdown",
   "id": "d4910ca6",
   "metadata": {},
   "source": [
    "**Comment here** on how changing distributions from which our data is collected impacts the null t distribution."
   ]
  },
  {
   "cell_type": "markdown",
   "id": "a9dab741",
   "metadata": {},
   "source": [
    "<font color = red>Using a uniform distribution instead, shifts the null distribution away from a center of 0. It also makes the distribution more spread than when using the normal distribution.</font>"
   ]
  },
  {
   "cell_type": "markdown",
   "id": "a8cf63c1",
   "metadata": {},
   "source": [
    "# Problem 3 U statistic (i.e. no distribution assumptions)\n",
    "\n",
    "One major concern is that we often know nothing about the data. We have no good reason to assume it is from a normal distribution. Instead, we have to use nonparametric statistical tools wherein we do not have to make any assumptions on whether our data comes from a specific population. One option is the U statistic from the Wilcoxon rank-sum test.\n",
    "\n",
    "The assumption here is that two independent samples were selected from populations having the same distribution, but we don't know what that distribution is.\n",
    "\n",
    "How to calculate U for small data sets (i.e. direct method)\n",
    "- U is the number of “wins” between two competing datasets\n",
    "- For each observation in one set, count the number of times this first value wins over any observations in the other set.\n",
    "- Count 0.5 for any ties\n",
    "- The sum of wins and ties is the U for that datasets\n",
    "- To keep our discussion simple, we will ignore the case of ties\n",
    "\n",
    "Here's a short example:\n",
    "- Jason and Mr. N are competing. Jason scores a 100, 55, and 50. Mr. N scores a 90, 80, 60.\n",
    "- Order the data by wins from highest to lowest and indicate who the score belongs to : J N N N J J\n",
    "- We can calculate the U for Jason (call it U1) by adding the number of wins for each J entry. Namely, the first J beats N 3 times while the second and third J have no wins. So we get U1 = 3 + 0 + 0.\n",
    "    - We can do the same calculation for Mr. N and get U2 = 2 + 2 + 2 = 6.\n",
    "- Now, all we need to interpret these numbers is our absolute favorite thing: **a null distribution!!**\n",
    "\n",
    "The null distribution for a U statistic is simply the score all of the **possible combinations of outcomes**. For example, if we only had two measurements for J and N, the possible combinations are:\n",
    "   - JJBB (U1 = 4)\n",
    "   - JBJB (U1 = 3)\n",
    "   - JBBJ (U1 = 2)\n",
    "   - BJBJ (U1 = 1)\n",
    "   - BBJJ (U1 = 0)\n",
    "   - BJJB (U1 = 2)\n",
    "\n",
    "A histogram of the U1's above would be our null distribution. \n",
    "\n",
    "In the space below, wrote the code to construct the null distribution of U1 for when 5 samples are collected for each group. Hint: look for packages that can identify all combinations of two vectors...\n"
   ]
  },
  {
   "cell_type": "code",
   "execution_count": 63,
   "id": "f61ab13d",
   "metadata": {},
   "outputs": [
    {
     "data": {
      "text/plain": [
       "Text(0.5, 0, 'Frequency')"
      ]
     },
     "execution_count": 63,
     "metadata": {},
     "output_type": "execute_result"
    },
    {
     "data": {
      "image/png": "[encoded data removed]",
      "text/plain": [
       "<Figure size 432x288 with 1 Axes>"
      ]
     },
     "metadata": {
      "needs_background": "light"
     },
     "output_type": "display_data"
    }
   ],
   "source": [
    "#import necessary packages\n",
    "import itertools\n",
    "#from itertools import combinations\n",
    "\n",
    "\n",
    "#identify unique combinations of two groups\n",
    "unique_combos = []\n",
    "actual_combos = []\n",
    "\n",
    "#create all possible combos of 1s and 2s\n",
    "unique_combos = np.asarray(list(itertools.product(range(1,3),repeat=10)))\n",
    "\n",
    "#filter out combos that don't have five of each number\n",
    "n=0\n",
    "for combo in unique_combos:\n",
    "    if np.count_nonzero(combo==1)==5:\n",
    "        actual_combos.append(combo)\n",
    "        n=n+1\n",
    "\n",
    "#calculate u statistic of each combo\n",
    "u_stat = np.zeros(len(actual_combos))\n",
    "p_val = np.zeros(len(actual_combos))\n",
    "n=0\n",
    "\n",
    "for combo in actual_combos:\n",
    "    r1 = 0\n",
    "    for q in range(len(combo)):\n",
    "        if combo[q]==2:\n",
    "            r1 = r1 + (10-q)\n",
    "    u_stat[n] = r1 - (5*6)/2\n",
    "    n=n+1\n",
    "\n",
    "#make histogram of it\n",
    "plt.hist(u_stat, bins=10)\n",
    "plt.title(\"U Statistic Null Distribution\")\n",
    "plt.ylabel(\"U statistic\")\n",
    "plt.xlabel(\"Frequency\")"
   ]
  },
  {
   "cell_type": "markdown",
   "id": "38135eb7",
   "metadata": {},
   "source": [
    "You collect two samples:\n",
    "\n",
    "a = (7,1,2,8,10)\n",
    "b = (4,5,6,9,11)\n",
    "\n",
    "Use your distribution to estimate the likelihood (two-sided p value) that a and b come from the same distributions.\n"
   ]
  },
  {
   "cell_type": "code",
   "execution_count": 64,
   "id": "e1ed52ae",
   "metadata": {},
   "outputs": [
    {
     "name": "stdout",
     "output_type": "stream",
     "text": [
      "The two-sided p-value based on the distribution is  0.5476190476190477\n"
     ]
    },
    {
     "data": {
      "text/plain": [
       "WilcoxonResult(statistic=3.0, pvalue=0.3125)"
      ]
     },
     "execution_count": 64,
     "metadata": {},
     "output_type": "execute_result"
    }
   ],
   "source": [
    "#two samples\n",
    "a = [7,1,2,8,10]\n",
    "b = [4,5,6,9,11]\n",
    "\n",
    "#calculated R1 by hand\n",
    "#r1 for a is 30\n",
    "#r2 for b is 25\n",
    "u1 = 30 - (5*6)/2\n",
    "u2 = 25 - (5*6)/2\n",
    "\n",
    "#p value\n",
    "print(\"The two-sided p-value based on the distribution is \", 2*sum(u_stat>u1)/252)\n",
    "\n",
    "#checking answer with wilcoxon package\n",
    "stats.wilcoxon(a,b,zero_method='wilcox',alternative='two-sided')"
   ]
  }
 ],
 "metadata": {
  "kernelspec": {
   "display_name": "Python 3 (ipykernel)",
   "language": "python",
   "name": "python3"
  },
  "language_info": {
   "codemirror_mode": {
    "name": "ipython",
    "version": 3
   },
   "file_extension": ".py",
   "mimetype": "text/x-python",
   "name": "python",
   "nbconvert_exporter": "python",
   "pygments_lexer": "ipython3",
   "version": "3.9.12"
  }
 },
 "nbformat": 4,
 "nbformat_minor": 5
}
